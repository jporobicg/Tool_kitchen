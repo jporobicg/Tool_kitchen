{
 "cells": [
  {
   "cell_type": "code",
   "execution_count": 1,
   "metadata": {},
   "outputs": [
    {
     "name": "stdout",
     "output_type": "stream",
     "text": [
      "The grids of the two files are the same\n"
     ]
    }
   ],
   "source": [
    "import xarray as xr\n",
    "\n",
    "# Open the first netCDF file using xarray\n",
    "ds1 = xr.open_dataset('temporal_input/ocean-3d-u-1-daily-mean-ym_1999_01.nc')\n",
    "#print(ds1)\n",
    "# Open the second netCDF file using xarray\n",
    "ds2 = xr.open_dataset('temporal_input/ocean-3d-v-1-daily-mean-ym_1999_01.nc')\n",
    "\n",
    "# Compare the latitude and longitude coordinates of the two datasets\n",
    "if (ds1.xu_ocean.values == ds2.xu_ocean.values).all() and (ds1.yu_ocean.values == ds2.yu_ocean.values).all():\n",
    "    print('The grids of the two files are the same')\n",
    "else:\n",
    "    print('The grids of the two files are different')\n",
    "\n",
    "# Close the netCDF files\n",
    "ds1.close()\n",
    "ds2.close()"
   ]
  },
  {
   "cell_type": "code",
   "execution_count": null,
   "metadata": {},
   "outputs": [],
   "source": []
  }
 ],
 "metadata": {
  "kernelspec": {
   "display_name": "GBR_env",
   "language": "python",
   "name": "python3"
  },
  "language_info": {
   "codemirror_mode": {
    "name": "ipython",
    "version": 3
   },
   "file_extension": ".py",
   "mimetype": "text/x-python",
   "name": "python",
   "nbconvert_exporter": "python",
   "pygments_lexer": "ipython3",
   "version": "3.9.12"
  },
  "orig_nbformat": 4
 },
 "nbformat": 4,
 "nbformat_minor": 2
}
